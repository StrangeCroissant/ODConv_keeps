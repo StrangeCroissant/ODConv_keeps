{
  "nbformat": 4,
  "nbformat_minor": 0,
  "metadata": {
    "colab": {
      "provenance": [],
      "mount_file_id": "1OdZqGvdTXSNuTzBdoXZSTHVuKWN4iX7c",
      "authorship_tag": "ABX9TyM3lmo9p/YPbm/YxTtOXxr1",
      "include_colab_link": true
    },
    "kernelspec": {
      "name": "python3",
      "display_name": "Python 3"
    },
    "language_info": {
      "name": "python"
    }
  },
  "cells": [
    {
      "cell_type": "markdown",
      "metadata": {
        "id": "view-in-github",
        "colab_type": "text"
      },
      "source": [
        "<a href=\"https://colab.research.google.com/github/StrangeCroissant/ODConv_keeps/blob/main/SVM_CIFAR10.ipynb\" target=\"_parent\"><img src=\"https://colab.research.google.com/assets/colab-badge.svg\" alt=\"Open In Colab\"/></a>"
      ]
    },
    {
      "cell_type": "markdown",
      "source": [
        "# **Libraries** "
      ],
      "metadata": {
        "id": "-JsmhpXkqpgn"
      }
    },
    {
      "cell_type": "code",
      "execution_count": null,
      "metadata": {
        "id": "JuNzMv2fnel0"
      },
      "outputs": [],
      "source": [
        "import pandas as pd\n",
        "import numpy as np\n",
        "import os\n",
        "import matplotlib.pyplot as plt\n",
        "\n",
        "from sklearn.model_selection import train_test_split  \n",
        "from skimage.feature import hog\n",
        "from skimage.color import rgb2grey\n",
        "import cv2\n",
        "\n",
        "\n",
        "from tensorflow.keras.datasets import cifar10\n",
        "\n",
        "#cvm \n",
        "from sklearn import svm\n",
        "import sklearn.model_selection as model_selection\n",
        "from sklearn.metrics import accuracy_score, f1_score"
      ]
    },
    {
      "cell_type": "markdown",
      "source": [
        "# **Data Exploration**\n",
        "\n",
        "First from tensorflow datasets we want to inport the cifar10 dataset. This is a collection of images meant for image recognition model training\n",
        "\n",
        "We split the dataset into train/test\n",
        "\n",
        "We check sizes and reshape y_train to 1D-array\n",
        "\n",
        "We are working with 50000 image samples of 32x32 pixels x 3 chanels(RGB) dimensions"
      ],
      "metadata": {
        "id": "mU8SuMb7n8Px"
      }
    },
    {
      "cell_type": "code",
      "source": [
        "(X_train,y_train) , (X_test, y_test) = cifar10.load_data()"
      ],
      "metadata": {
        "id": "R-Gi5cq8oBCv"
      },
      "execution_count": null,
      "outputs": []
    },
    {
      "cell_type": "code",
      "source": [
        "X_train.shape"
      ],
      "metadata": {
        "colab": {
          "base_uri": "https://localhost:8080/"
        },
        "id": "A2pWllsHoKTi",
        "outputId": "78e7a8be-2d0f-42b9-b59a-f4558b03541c"
      },
      "execution_count": null,
      "outputs": [
        {
          "output_type": "execute_result",
          "data": {
            "text/plain": [
              "(50000, 32, 32, 3)"
            ]
          },
          "metadata": {},
          "execution_count": 6
        }
      ]
    },
    {
      "cell_type": "code",
      "source": [
        "X_train[0].shape"
      ],
      "metadata": {
        "colab": {
          "base_uri": "https://localhost:8080/"
        },
        "id": "Q1pD6gOOoU1t",
        "outputId": "d6300b91-ad96-48d2-dbea-5bc25358806f"
      },
      "execution_count": null,
      "outputs": [
        {
          "output_type": "execute_result",
          "data": {
            "text/plain": [
              "(32, 32, 3)"
            ]
          },
          "metadata": {},
          "execution_count": 7
        }
      ]
    },
    {
      "cell_type": "code",
      "source": [
        "plt.imshow(X_train[0])"
      ],
      "metadata": {
        "colab": {
          "base_uri": "https://localhost:8080/",
          "height": 283
        },
        "id": "AuGiw4WAoWS3",
        "outputId": "cf3be7ee-e0bf-4add-a236-372040370c44"
      },
      "execution_count": null,
      "outputs": [
        {
          "output_type": "execute_result",
          "data": {
            "text/plain": [
              "<matplotlib.image.AxesImage at 0x7ff530e19810>"
            ]
          },
          "metadata": {},
          "execution_count": 8
        },
        {
          "output_type": "display_data",
          "data": {
            "text/plain": [
              "<Figure size 432x288 with 1 Axes>"
            ],
            "image/png": "[encoded data removed]"
          },
          "metadata": {
            "needs_background": "light"
          }
        }
      ]
    },
    {
      "cell_type": "code",
      "source": [
        "y_train.shape"
      ],
      "metadata": {
        "colab": {
          "base_uri": "https://localhost:8080/"
        },
        "id": "e_u_5yrFoZNa",
        "outputId": "06fa0788-a9ec-4ebd-d014-c577cfbf6633"
      },
      "execution_count": null,
      "outputs": [
        {
          "output_type": "execute_result",
          "data": {
            "text/plain": [
              "(50000, 1)"
            ]
          },
          "metadata": {},
          "execution_count": 9
        }
      ]
    },
    {
      "cell_type": "markdown",
      "source": [
        "y_train contains the labels for the samples, for the y_train data we need a 1D array. So we reshape y_train "
      ],
      "metadata": {
        "id": "NdkiDGuIoeMu"
      }
    },
    {
      "cell_type": "code",
      "source": [
        "y_train = y_train.reshape(-1,)\n",
        "y_train[:10]"
      ],
      "metadata": {
        "colab": {
          "base_uri": "https://localhost:8080/"
        },
        "id": "eNsNkIxZod86",
        "outputId": "beec6567-0654-437c-c876-736d72549aa4"
      },
      "execution_count": null,
      "outputs": [
        {
          "output_type": "execute_result",
          "data": {
            "text/plain": [
              "array([6, 9, 9, 4, 1, 1, 2, 7, 8, 3], dtype=uint8)"
            ]
          },
          "metadata": {},
          "execution_count": 10
        }
      ]
    },
    {
      "cell_type": "markdown",
      "source": [
        "We want to create a listo of all the labels. We know from the cifar10 documentation that there are 10 classes in total [0,9]. "
      ],
      "metadata": {
        "id": "5sBIsBEFo25s"
      }
    },
    {
      "cell_type": "code",
      "source": [
        "classes=['airplane','automobile','cat',\n",
        "        'bird','deer','dog',\n",
        "        'frog','horse','ship',\n",
        "        'truck']\n",
        "classes[6]"
      ],
      "metadata": {
        "colab": {
          "base_uri": "https://localhost:8080/",
          "height": 35
        },
        "id": "efOo2DIZoa13",
        "outputId": "e9b0b54a-3757-4a20-cdc5-90bf618b3fa0"
      },
      "execution_count": null,
      "outputs": [
        {
          "output_type": "execute_result",
          "data": {
            "text/plain": [
              "'frog'"
            ],
            "application/vnd.google.colaboratory.intrinsic+json": {
              "type": "string"
            }
          },
          "metadata": {},
          "execution_count": 11
        }
      ]
    },
    {
      "cell_type": "markdown",
      "source": [
        "The function below plots a sample with it's label"
      ],
      "metadata": {
        "id": "6Bjbhof2qF7a"
      }
    },
    {
      "cell_type": "code",
      "source": [
        "def plot_sample(X,y,index):\n",
        "    plt.figure(figsize=(15,2))\n",
        "    plt.imshow(X[index])\n",
        "    plt.xlabel(classes[y[index]])\n",
        "\n",
        "plot_sample(X_train,y_train,0)"
      ],
      "metadata": {
        "colab": {
          "base_uri": "https://localhost:8080/",
          "height": 173
        },
        "id": "Yf4iXv2Io_Nk",
        "outputId": "ca7ecbfc-6b3d-4452-dd72-ea6c43b09f88"
      },
      "execution_count": null,
      "outputs": [
        {
          "output_type": "display_data",
          "data": {
            "text/plain": [
              "<Figure size 1080x144 with 1 Axes>"
            ],
            "image/png": "[encoded data removed]"
          },
          "metadata": {
            "needs_background": "light"
          }
        }
      ]
    },
    {
      "cell_type": "markdown",
      "source": [
        "# Data Normalization and Processing for SVM input"
      ],
      "metadata": {
        "id": "faessSRDqWhX"
      }
    },
    {
      "cell_type": "markdown",
      "source": [
        "When we train our model, we can not pass an **m X m X 3** *italicized text* dimentional image. We will grayscale our samples to reduce the RGB channel size to 1 and then reshape the images to 2D ***m X m*** "
      ],
      "metadata": {
        "id": "h_3uLSE52qqF"
      }
    },
    {
      "cell_type": "code",
      "source": [
        "X_train_gray = np.zeros(X_train.shape[:-1])\n",
        "X_test_gray = np.zeros(X_test.shape[:-1])\n",
        "for i in range(X_train.shape[0]):\n",
        "    X_train_gray[i] = cv2.cvtColor(X_train[i],cv2.COLOR_BGR2GRAY)\n",
        "\n",
        "X_test_gray = np.zeros(X_test.shape[:-1])\n",
        "for j in range(X_test.shape[0]):\n",
        "    X_test_gray[j] = cv2.cvtColor(X_test[j],cv2.COLOR_BGR2GRAY)"
      ],
      "metadata": {
        "id": "im6bnTg83ktR"
      },
      "execution_count": null,
      "outputs": []
    },
    {
      "cell_type": "code",
      "source": [
        "fig, axs = plt.subplots(2, 2, figsize=(8, 8))\n",
        "axs[0][0].imshow(X_train_gray[0],cmap='gray')\n",
        "axs[0][1].imshow(X_train_gray[100],cmap='gray')\n",
        "axs[1][0].imshow(X_test_gray[0],cmap='gray')\n",
        "axs[1][1].imshow(X_test_gray[100],cmap='gray')"
      ],
      "metadata": {
        "colab": {
          "base_uri": "https://localhost:8080/",
          "height": 501
        },
        "id": "wavctNwsBR5e",
        "outputId": "f6e6765a-8d0a-4cd5-b94e-8f060c8be40f"
      },
      "execution_count": null,
      "outputs": [
        {
          "output_type": "execute_result",
          "data": {
            "text/plain": [
              "<matplotlib.image.AxesImage at 0x7ff5307ac950>"
            ]
          },
          "metadata": {},
          "execution_count": 14
        },
        {
          "output_type": "display_data",
          "data": {
            "text/plain": [
              "<Figure size 576x576 with 4 Axes>"
            ],
            "image/png": "[encoded data removed]"
          },
          "metadata": {
            "needs_background": "light"
          }
        }
      ]
    },
    {
      "cell_type": "code",
      "source": [
        "print(X_train_gray.shape)\n",
        "print(X_test_gray.shape)"
      ],
      "metadata": {
        "colab": {
          "base_uri": "https://localhost:8080/"
        },
        "id": "ruNenK-uB10Y",
        "outputId": "41d7891c-815a-4242-d86d-9e2240d5da06"
      },
      "execution_count": null,
      "outputs": [
        {
          "output_type": "stream",
          "name": "stdout",
          "text": [
            "(50000, 32, 32)\n",
            "(10000, 32, 32)\n"
          ]
        }
      ]
    },
    {
      "cell_type": "markdown",
      "source": [
        "We have succesfully converted the 50000 32x32x3 of the training dataset to 32x32 2D images. The same for the 10000 test images.\n",
        "\n",
        "The pixel values flactuate from 0 to 255, we want to normalize the values to [0,1]"
      ],
      "metadata": {
        "id": "f0-lCPZSBRi6"
      }
    },
    {
      "cell_type": "code",
      "source": [
        "X_train = X_train/255\n",
        "X_test = X_test/255"
      ],
      "metadata": {
        "id": "Q_3ykrWlCq3f"
      },
      "execution_count": null,
      "outputs": []
    },
    {
      "cell_type": "markdown",
      "source": [
        "# Feature Engineering\n",
        "\n"
      ],
      "metadata": {
        "id": "Lzjn0q9HC7H8"
      }
    },
    {
      "cell_type": "markdown",
      "source": [
        "Histogram of orienteted gradients (HOG) and flattening to produce a 1D array to input in our SVM model"
      ],
      "metadata": {
        "id": "r551IfpLDRPz"
      }
    },
    {
      "cell_type": "code",
      "source": [
        "#def feature_cre(smpl):\n",
        "#    flat = smpl.flatten()\n",
        "#    hog_feat = hog(smpl,block_norm='L2-Hys',pixels_per_cell=(8,8))\n",
        "#    flat_feat = np.hstack(flat)\n",
        "#    return flat_feat\n"
      ],
      "metadata": {
        "id": "XC39GehhE_da"
      },
      "execution_count": null,
      "outputs": []
    },
    {
      "cell_type": "code",
      "source": [
        "#features = feature_cre(X_train_gray)"
      ],
      "metadata": {
        "id": "lC5f6d6cqFmG"
      },
      "execution_count": null,
      "outputs": []
    },
    {
      "cell_type": "markdown",
      "source": [],
      "metadata": {
        "id": "_coKexpsqD9_"
      }
    },
    {
      "cell_type": "markdown",
      "source": [
        "# **Creating SVM model**\n",
        "\n",
        "We will attempt to create an SVM clasifier from scratch.\n",
        "\n",
        "---\n",
        "\n",
        "The hyperplane function is : \n",
        "\\begin{equation} f(\\vec{w},\\vec{x},b) = (\\vec{w}. \\vec{x} -b) \\end{equation}\n",
        "\n",
        "The mutliclass classification problem is not supported by a simple SVM model. We can approach this with either one-to-one(OTO) or one-to-rest(OTR).\n",
        "\n",
        "\n",
        "\n",
        "1.   In OTR the classifier can use **m** SVMs. Each SVM would predict membership in one of the **m** classes. \n",
        "2.   In OTO, the classifier can use \n",
        "\\begin{equation} \n",
        "{m(m-1)/2} \n",
        "\\end{equation} SVMs\n",
        "\n",
        "\n",
        "In this notebook we will try both approaches. "
      ],
      "metadata": {
        "id": "IRigejpZrtYm"
      }
    },
    {
      "cell_type": "code",
      "source": [],
      "metadata": {
        "id": "7IaktZjmmW_O"
      },
      "execution_count": null,
      "outputs": []
    }
  ]
}